{
  "nbformat": 4,
  "nbformat_minor": 0,
  "metadata": {
    "colab": {
      "name": "basicPython.ipynb",
      "provenance": [],
      "collapsed_sections": []
    },
    "kernelspec": {
      "name": "python3",
      "display_name": "Python 3"
    },
    "language_info": {
      "name": "python"
    }
  },
  "cells": [
    {
      "source": [
        "#Basic Python week 2"
      ],
      "cell_type": "markdown",
      "metadata": {
        "id": "k8Q_APB0tctY"
      }
    },
    {
      "cell_type": "markdown",
      "metadata": {
        "id": "db2cYaRGuOjg"
      },
      "source": [
        "###**print()** ธรรมดา กับ print() พิเศษ**(.format)**"
      ]
    },
    {
      "cell_type": "markdown",
      "metadata": {
        "id": "aG-KukjstjgB"
      },
      "source": [
        "**print()** คือ คำสั่งที่ใช้ในการแสดงผล"
      ]
    },
    {
      "cell_type": "code",
      "metadata": {
        "colab": {
          "base_uri": "https://localhost:8080/"
        },
        "id": "-98OmM-GtVDZ",
        "outputId": "f5f6ef6f-9ec6-483b-852b-b75a79ee095c"
      },
      "source": [
        "print('Hello World') # normal print"
      ],
      "execution_count": null,
      "outputs": [
        {
          "output_type": "stream",
          "text": [
            "Hello World\n"
          ],
          "name": "stdout"
        }
      ]
    },
    {
      "cell_type": "code",
      "metadata": {
        "id": "EBW9-jBCtZtm"
      },
      "source": [
        "name = 'Kon'\n",
        "money = 300 # int \n",
        "account = 500.24532  # float"
      ],
      "execution_count": null,
      "outputs": []
    },
    {
      "cell_type": "markdown",
      "metadata": {
        "id": "s359RNqqwRlY"
      },
      "source": [
        "**type(name)** คือคำสังสำหรับเช็คตัวแปล"
      ]
    },
    {
      "cell_type": "code",
      "metadata": {
        "colab": {
          "base_uri": "https://localhost:8080/"
        },
        "id": "NY5rirN9v3BQ",
        "outputId": "adb18120-c269-4ce2-bb1d-95ed9854418a"
      },
      "source": [
        "# Check type\n",
        "print(name, type(name)) # str = string\n",
        "print(name, type(money)) # int  = integer\n",
        "print(name, type(account)) # float = float"
      ],
      "execution_count": null,
      "outputs": [
        {
          "output_type": "stream",
          "text": [
            "Kon <class 'str'>\n",
            "Kon <class 'int'>\n",
            "Kon <class 'float'>\n"
          ],
          "name": "stdout"
        }
      ]
    },
    {
      "cell_type": "code",
      "metadata": {
        "colab": {
          "base_uri": "https://localhost:8080/"
        },
        "id": "-PwS66-yu4O3",
        "outputId": "e0d8a8cb-a885-4366-b554-3f0b62be1f98"
      },
      "source": [
        "# print(name + money) # error money is not str \n",
        "print(name + str(money))"
      ],
      "execution_count": null,
      "outputs": [
        {
          "output_type": "stream",
          "text": [
            "Kon300\n"
          ],
          "name": "stdout"
        }
      ]
    },
    {
      "cell_type": "markdown",
      "metadata": {
        "id": "VCnL9Xm8wgoQ"
      },
      "source": [
        "**print() แบบพิเศษ (.format)**"
      ]
    },
    {
      "cell_type": "code",
      "metadata": {
        "id": "B6Gn38v4wsOA"
      },
      "source": [
        "meng = 'Kontawat'\n",
        "myMoney = '20'"
      ],
      "execution_count": null,
      "outputs": []
    },
    {
      "cell_type": "code",
      "metadata": {
        "colab": {
          "base_uri": "https://localhost:8080/"
        },
        "id": "QNyLgMgxxmzp",
        "outputId": "c592d38a-ca91-4675-a9bf-e8ba417f8426"
      },
      "source": [
        "print(meng)\n",
        "print(type(myMoney)) # ข้อความบวกกันได้\n",
        "print(meng + myMoney)"
      ],
      "execution_count": null,
      "outputs": [
        {
          "output_type": "stream",
          "text": [
            "Kontawat\n",
            "<class 'str'>\n",
            "Kontawat20\n"
          ],
          "name": "stdout"
        }
      ]
    },
    {
      "cell_type": "code",
      "metadata": {
        "colab": {
          "base_uri": "https://localhost:8080/"
        },
        "id": "znYm4QwmyL6J",
        "outputId": "6342e17f-ba46-4226-c04c-eee5c730efc1"
      },
      "source": [
        "name = 'Kon'\n",
        "money = 300000 # int \n",
        "account = 500000.24532  # float\n",
        "\n",
        "# อยากได้ข้อความ เม้งมีเงินในกระเป๋า... เงินในบัญชี...\n",
        "# .format อันนี้ ปัดลง\n",
        "# Normal use + str \n",
        "print(name + 'have money :'+ str(money) + ' $ In account : ' + str(account) + ' $') # not cool \n",
        "\n",
        "# Use format \n",
        "print('{} have money {:,d} $ .In account has {:,.3f} $'.format(name, money, account)) #{:,d} -> d คือ %d\n",
        "\n",
        "# f-string - shoted than format\n",
        "print(f'{name} have money {money:,d} $ .In account has {account:,.0f} $') #{name:,d} \n",
        "\n",
        "#แบบ เก่า %s(string) %d (decimal) %f (float)\n",
        "print('%s มีเงินในกระเป๋า %d บาท มีเงินในบัญชี %.2f บาท'%(name,money,account)) "
      ],
      "execution_count": null,
      "outputs": [
        {
          "output_type": "stream",
          "text": [
            "Konhave money :300000 $ In account : 500000.24532 $\n",
            "Kon have money 300,000 $ .In account has 500,000.245 $\n",
            "Kon have money 300,000 $ .In account has 500,000 $\n",
            "Kon มีเงินในกระเป๋า 300000 บาท มีเงินในบัญชี 500000.25 บาท\n"
          ],
          "name": "stdout"
        }
      ]
    }
  ]
}